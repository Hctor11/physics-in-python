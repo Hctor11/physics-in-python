{
 "cells": [
  {
   "cell_type": "code",
   "execution_count": 1,
   "metadata": {},
   "outputs": [
    {
     "data": {
      "text/html": [
       "<div id=\"glowscript\" class=\"glowscript\"></div>"
      ],
      "text/plain": [
       "<IPython.core.display.HTML object>"
      ]
     },
     "metadata": {},
     "output_type": "display_data"
    },
    {
     "data": {
      "application/javascript": "if (typeof Jupyter !== \"undefined\") { window.__context = { glowscript_container: $(\"#glowscript\").removeAttr(\"id\")};}else{ element.textContent = ' ';}",
      "text/plain": [
       "<IPython.core.display.Javascript object>"
      ]
     },
     "metadata": {},
     "output_type": "display_data"
    },
    {
     "ename": "AttributeError",
     "evalue": "module 'notebook' has no attribute 'nbextensions'",
     "output_type": "error",
     "traceback": [
      "\u001b[1;31m---------------------------------------------------------------------------\u001b[0m",
      "\u001b[1;31mAttributeError\u001b[0m                            Traceback (most recent call last)",
      "\u001b[1;32mc:\\Users\\hector\\Desktop\\Programs\\intro-physics-py\\07-plotsAndGraphs.ipynb Cell 1\u001b[0m line \u001b[0;36m3\n\u001b[0;32m      <a href='vscode-notebook-cell:/c%3A/Users/hector/Desktop/Programs/intro-physics-py/07-plotsAndGraphs.ipynb#W0sZmlsZQ%3D%3D?line=0'>1</a>\u001b[0m \u001b[39mfrom\u001b[39;00m \u001b[39mvpython\u001b[39;00m \u001b[39mimport\u001b[39;00m \u001b[39m*\u001b[39m\n\u001b[1;32m----> <a href='vscode-notebook-cell:/c%3A/Users/hector/Desktop/Programs/intro-physics-py/07-plotsAndGraphs.ipynb#W0sZmlsZQ%3D%3D?line=2'>3</a>\u001b[0m movingBox \u001b[39m=\u001b[39m box(pos\u001b[39m=\u001b[39;49mvector(\u001b[39m-\u001b[39;49m\u001b[39m5\u001b[39;49m,\u001b[39m-\u001b[39;49m\u001b[39m5\u001b[39;49m,\u001b[39m-\u001b[39;49m\u001b[39m5\u001b[39;49m), size\u001b[39m=\u001b[39;49mvector(\u001b[39m1\u001b[39;49m,\u001b[39m1\u001b[39;49m,\u001b[39m1\u001b[39;49m), color\u001b[39m=\u001b[39;49mcolor\u001b[39m.\u001b[39;49mpurple)\n\u001b[0;32m      <a href='vscode-notebook-cell:/c%3A/Users/hector/Desktop/Programs/intro-physics-py/07-plotsAndGraphs.ipynb#W0sZmlsZQ%3D%3D?line=4'>5</a>\u001b[0m \u001b[39mwhile\u001b[39;00m movingBox\u001b[39m.\u001b[39mpos\u001b[39m.\u001b[39mx \u001b[39m<\u001b[39m \u001b[39m5\u001b[39m:\n\u001b[0;32m      <a href='vscode-notebook-cell:/c%3A/Users/hector/Desktop/Programs/intro-physics-py/07-plotsAndGraphs.ipynb#W0sZmlsZQ%3D%3D?line=5'>6</a>\u001b[0m     rate(\u001b[39m50\u001b[39m)\n",
      "File \u001b[1;32mc:\\Users\\hector\\AppData\\Local\\Programs\\Python\\Python310\\lib\\site-packages\\vpython\\vpython.py:1166\u001b[0m, in \u001b[0;36mbox.__init__\u001b[1;34m(self, **args)\u001b[0m\n\u001b[0;32m   1164\u001b[0m args[\u001b[39m'\u001b[39m\u001b[39m_default_size\u001b[39m\u001b[39m'\u001b[39m] \u001b[39m=\u001b[39m vector(\u001b[39m1\u001b[39m,\u001b[39m1\u001b[39m,\u001b[39m1\u001b[39m)\n\u001b[0;32m   1165\u001b[0m args[\u001b[39m'\u001b[39m\u001b[39m_objName\u001b[39m\u001b[39m'\u001b[39m] \u001b[39m=\u001b[39m \u001b[39m\"\u001b[39m\u001b[39mbox\u001b[39m\u001b[39m\"\u001b[39m\n\u001b[1;32m-> 1166\u001b[0m \u001b[39msuper\u001b[39;49m(box, \u001b[39mself\u001b[39;49m)\u001b[39m.\u001b[39;49msetup(args)\n",
      "File \u001b[1;32mc:\\Users\\hector\\AppData\\Local\\Programs\\Python\\Python310\\lib\\site-packages\\vpython\\vpython.py:599\u001b[0m, in \u001b[0;36mstandardAttributes.setup\u001b[1;34m(self, args)\u001b[0m\n\u001b[0;32m    598\u001b[0m \u001b[39mdef\u001b[39;00m \u001b[39msetup\u001b[39m(\u001b[39mself\u001b[39m, args):\n\u001b[1;32m--> 599\u001b[0m     \u001b[39msuper\u001b[39;49m(standardAttributes, \u001b[39mself\u001b[39;49m)\u001b[39m.\u001b[39;49m\u001b[39m__init__\u001b[39;49m()\n\u001b[0;32m    600\u001b[0m     \u001b[39mself\u001b[39m\u001b[39m.\u001b[39m_constructing \u001b[39m=\u001b[39m \u001b[39mTrue\u001b[39;00m  \u001b[39m## calls to setters are from constructor\u001b[39;00m\n\u001b[0;32m    602\u001b[0m     objName \u001b[39m=\u001b[39m \u001b[39mself\u001b[39m\u001b[39m.\u001b[39m_objName \u001b[39m=\u001b[39m args[\u001b[39m'\u001b[39m\u001b[39m_objName\u001b[39m\u001b[39m'\u001b[39m]  \u001b[39m## identifies object type\u001b[39;00m\n",
      "File \u001b[1;32mc:\\Users\\hector\\AppData\\Local\\Programs\\Python\\Python310\\lib\\site-packages\\vpython\\vpython.py:257\u001b[0m, in \u001b[0;36mbaseObj.__init__\u001b[1;34m(self, **kwargs)\u001b[0m\n\u001b[0;32m    254\u001b[0m \u001b[39mif\u001b[39;00m \u001b[39mnot\u001b[39;00m (baseObj\u001b[39m.\u001b[39m_view_constructed \u001b[39mor\u001b[39;00m\n\u001b[0;32m    255\u001b[0m         baseObj\u001b[39m.\u001b[39m_canvas_constructing):\n\u001b[0;32m    256\u001b[0m     \u001b[39mif\u001b[39;00m _isnotebook:\n\u001b[1;32m--> 257\u001b[0m         \u001b[39mfrom\u001b[39;00m \u001b[39m.\u001b[39;00m\u001b[39mwith_notebook\u001b[39;00m \u001b[39mimport\u001b[39;00m _\n\u001b[0;32m    258\u001b[0m     \u001b[39melse\u001b[39;00m:\n\u001b[0;32m    259\u001b[0m         \u001b[39mfrom\u001b[39;00m \u001b[39m.\u001b[39;00m\u001b[39mno_notebook\u001b[39;00m \u001b[39mimport\u001b[39;00m _\n",
      "File \u001b[1;32mc:\\Users\\hector\\AppData\\Local\\Programs\\Python\\Python310\\lib\\site-packages\\vpython\\with_notebook.py:80\u001b[0m\n\u001b[0;32m     77\u001b[0m         transfer \u001b[39m=\u001b[39m (v \u001b[39m!=\u001b[39m __version__) \u001b[39m# need not transfer files to nbextensions if correct version's files already there\u001b[39;00m\n\u001b[0;32m     79\u001b[0m \u001b[39mif\u001b[39;00m transfer:\n\u001b[1;32m---> 80\u001b[0m     notebook\u001b[39m.\u001b[39;49mnbextensions\u001b[39m.\u001b[39minstall_nbextension(path \u001b[39m=\u001b[39m package_dir\u001b[39m+\u001b[39m\u001b[39m\"\u001b[39m\u001b[39m/vpython_data\u001b[39m\u001b[39m\"\u001b[39m,overwrite \u001b[39m=\u001b[39m \u001b[39mTrue\u001b[39;00m,user \u001b[39m=\u001b[39m \u001b[39mTrue\u001b[39;00m,verbose \u001b[39m=\u001b[39m \u001b[39m0\u001b[39m)\n\u001b[0;32m     81\u001b[0m     notebook\u001b[39m.\u001b[39mnbextensions\u001b[39m.\u001b[39minstall_nbextension(path \u001b[39m=\u001b[39m package_dir\u001b[39m+\u001b[39m\u001b[39m\"\u001b[39m\u001b[39m/vpython_libraries\u001b[39m\u001b[39m\"\u001b[39m,overwrite \u001b[39m=\u001b[39m \u001b[39mTrue\u001b[39;00m,user \u001b[39m=\u001b[39m \u001b[39mTrue\u001b[39;00m,verbose \u001b[39m=\u001b[39m \u001b[39m0\u001b[39m)\n\u001b[0;32m     83\u001b[0m     \u001b[39m# Wait for files to be transferred to nbextensions:\u001b[39;00m\n",
      "\u001b[1;31mAttributeError\u001b[0m: module 'notebook' has no attribute 'nbextensions'"
     ]
    }
   ],
   "source": [
    "from vpython import *\n",
    "\n",
    "graph(width=400, height=250)\n",
    "xDots = gdots(color=color.green)\n",
    "yDots = gdots(color=color.magenta)\n",
    "\n",
    "xDots.plot(t,x)\n"
   ]
  }
 ],
 "metadata": {
  "kernelspec": {
   "display_name": "Python 3",
   "language": "python",
   "name": "python3"
  },
  "language_info": {
   "codemirror_mode": {
    "name": "ipython",
    "version": 3
   },
   "file_extension": ".py",
   "mimetype": "text/x-python",
   "name": "python",
   "nbconvert_exporter": "python",
   "pygments_lexer": "ipython3",
   "version": "3.10.7"
  }
 },
 "nbformat": 4,
 "nbformat_minor": 2
}
